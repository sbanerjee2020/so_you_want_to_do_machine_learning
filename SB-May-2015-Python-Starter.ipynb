{
 "cells": [
  {
   "cell_type": "markdown",
   "metadata": {},
   "source": [
    "# <b> Python Starter  - Python For Analytics </b>\n",
    "Somnath Banerjee, Aug 2015"
   ]
  },
  {
   "cell_type": "markdown",
   "metadata": {},
   "source": [
    "####Adapted from Scientific Computing in Python by Robert Johansson"
   ]
  },
  {
   "cell_type": "markdown",
   "metadata": {},
   "source": [
    "We will focus on:\n",
    "- Numerical Calculations\n",
    "- Modelling\n",
    "- Simulations\n",
    "\n",
    "One key thing to note for Analytics is to follow the Scientific Method.\n",
    "\n",
    "One key aspect of that is <B>\"REPRODUCIBILITY\"</B>\n",
    "\n",
    "<B>Tools are important</B>\n",
    "1.  Python for programming\n",
    "2.  iPython Notebook\n",
    "3.  Few very important packages (numpy, pandas, matplotlib)\n",
    "4.  git (Bitbucket) for version control\n",
    "\n",
    "<B> How to get started</b>\n",
    "Download the Anaconda Distribution.  From Here - http://continuum.io/?gclid=CN68xdDRvccCFQktaQodAH0PgA\n",
    "\n",
    "Some detailed instructions here - https://github.com/cs109/content/wiki/Installing-Python\n",
    "\n",
    "<b>Why Python?</b>\n",
    "- Simple\n",
    "- Dynamically Typed (No need to declare variables,  function arguments or return types)\n",
    "- Built in Memmory Management\n",
    "- Interpreted  (very easy to develop)\n",
    "\n",
    "<b>Why iPython Notebook?</b>\n",
    "\n",
    "IPython is an interactive shell and is THE work-horse for data analytics. \n",
    "Python on the Browser.\n",
    "\n",
    "<b>Features include:</b>\n",
    "<li> Command history, which can be browsed with the up and down arrows on the keyboard.\n",
    "<li> Tab auto-completion.\n",
    "<li> In-line editing of code.\n",
    "<li> Object introspection, and documentation strings.\n",
    "<li> Interaction with operating system shell.\n",
    "<li> Markdown Cell (formatted Texts, links, images, formulae and graphs)"
   ]
  },
  {
   "cell_type": "markdown",
   "metadata": {},
   "source": [
    "<H1> Modules</h1>\n",
    "<br>\n",
    "Most of the functionality in Python is provided by <b>modules</b>. The Python Standard Library is a large collection of modules that provides  system, file I/O, string management, network communication, and much more. To use a module in a Python program it first has to be imported. A module can be imported using the <b>import</b> statement. For example, to import the module math, which contains many standard mathematical functions, we can do:"
   ]
  },
  {
   "cell_type": "code",
   "execution_count": 1,
   "metadata": {
    "collapsed": false
   },
   "outputs": [
    {
     "name": "stdout",
     "output_type": "stream",
     "text": [
      "1.0\n"
     ]
    }
   ],
   "source": [
    "import math\n",
    "x = math.cos(2 * math.pi)\n",
    "\n",
    "# Notice we have to prefix the function with math.\n",
    "print(x)"
   ]
  },
  {
   "cell_type": "markdown",
   "metadata": {},
   "source": [
    "Alternatively, we can chose to import all symbols (functions and variables) in a module to the current namespace (so that we don't need to use the prefix \\math.\" every time we use something from the math module:"
   ]
  },
  {
   "cell_type": "code",
   "execution_count": 2,
   "metadata": {
    "collapsed": false
   },
   "outputs": [
    {
     "name": "stdout",
     "output_type": "stream",
     "text": [
      "1.0\n"
     ]
    }
   ],
   "source": [
    "from math import *\n",
    "x = cos(2 * pi)\n",
    "print(x)"
   ]
  },
  {
   "cell_type": "markdown",
   "metadata": {},
   "source": [
    "As a third alternative, we can chose to import only a few selected symbols from a module by explicitly listing which ones we want to import instead of using the wildcard character *:"
   ]
  },
  {
   "cell_type": "code",
   "execution_count": 3,
   "metadata": {
    "collapsed": false
   },
   "outputs": [
    {
     "name": "stdout",
     "output_type": "stream",
     "text": [
      "1.0\n"
     ]
    }
   ],
   "source": [
    "from math import cos, pi\n",
    "x = cos(2 * pi)\n",
    "print(x)"
   ]
  },
  {
   "cell_type": "markdown",
   "metadata": {},
   "source": [
    "Once a module is imported, we can list the symbols it provides using the dir function:"
   ]
  },
  {
   "cell_type": "code",
   "execution_count": 4,
   "metadata": {
    "collapsed": false
   },
   "outputs": [
    {
     "name": "stdout",
     "output_type": "stream",
     "text": [
      "['__doc__', '__file__', '__name__', '__package__', 'acos', 'acosh', 'asin', 'asinh', 'atan', 'atan2', 'atanh', 'ceil', 'copysign', 'cos', 'cosh', 'degrees', 'e', 'erf', 'erfc', 'exp', 'expm1', 'fabs', 'factorial', 'floor', 'fmod', 'frexp', 'fsum', 'gamma', 'hypot', 'isinf', 'isnan', 'ldexp', 'lgamma', 'log', 'log10', 'log1p', 'modf', 'pi', 'pow', 'radians', 'sin', 'sinh', 'sqrt', 'tan', 'tanh', 'trunc']\n"
     ]
    }
   ],
   "source": [
    "import math\n",
    "print(dir(math))"
   ]
  },
  {
   "cell_type": "code",
   "execution_count": 5,
   "metadata": {
    "collapsed": false
   },
   "outputs": [
    {
     "name": "stdout",
     "output_type": "stream",
     "text": [
      "Help on built-in function log in module math:\n",
      "\n",
      "log(...)\n",
      "    log(x[, base])\n",
      "    \n",
      "    Return the logarithm of x to the given base.\n",
      "    If the base not specified, returns the natural logarithm (base e) of x.\n",
      "\n"
     ]
    }
   ],
   "source": [
    "help (math.log)"
   ]
  },
  {
   "cell_type": "code",
   "execution_count": 6,
   "metadata": {
    "collapsed": false
   },
   "outputs": [
    {
     "data": {
      "text/plain": [
       "2.302585092994046"
      ]
     },
     "execution_count": 6,
     "metadata": {},
     "output_type": "execute_result"
    }
   ],
   "source": [
    "math.log(10)"
   ]
  },
  {
   "cell_type": "code",
   "execution_count": 7,
   "metadata": {
    "collapsed": false
   },
   "outputs": [
    {
     "data": {
      "text/plain": [
       "2.322387720290225"
      ]
     },
     "execution_count": 7,
     "metadata": {},
     "output_type": "execute_result"
    }
   ],
   "source": [
    "math.log(10.2)"
   ]
  },
  {
   "cell_type": "code",
   "execution_count": 8,
   "metadata": {
    "collapsed": false
   },
   "outputs": [
    {
     "data": {
      "text/plain": [
       "float"
      ]
     },
     "execution_count": 8,
     "metadata": {},
     "output_type": "execute_result"
    }
   ],
   "source": [
    "x = math.log(10.2)\n",
    "type(x)\n"
   ]
  },
  {
   "cell_type": "markdown",
   "metadata": {},
   "source": [
    "<h1> Variables</h1>\n",
    "Variable names in Python can contain alphanumerical characters a-z, A-Z, 0-9 and some special characters such as . Normal variable names must start with a letter. By convension, variable names start with a lower-case letter, and Class names start with a capital letter.\n",
    "In addition, there are a number of Python keywords that cannot be used as variable names. These keywords are: <br>\n",
    "and, as, assert, break, class, continue, def, del, elif, else, except, exec, finally, for, from, global, if, import, in, is, lambda, not, or, pass, print, raise, return, try, while, with, yield\n",
    "</br>\n",
    "\n",
    "Note: Be aware of the keyword <b>lambda</b>, which could easily be a natural variable name in a scientific program. But being a keyword, it cannot be used as a variable name."
   ]
  },
  {
   "cell_type": "code",
   "execution_count": 9,
   "metadata": {
    "collapsed": false
   },
   "outputs": [
    {
     "name": "stdout",
     "output_type": "stream",
     "text": [
      "1.0\n",
      "<type 'float'>\n"
     ]
    }
   ],
   "source": [
    "# variable assignments\n",
    "x = 1.0\n",
    "my_variable = 12.2\n",
    "print x\n",
    "print type(x)"
   ]
  },
  {
   "cell_type": "markdown",
   "metadata": {},
   "source": [
    "<H1> Built-In Types </H1>\n",
    "<li>Integer\n",
    "<li>Float\n",
    "<li>Boolean"
   ]
  },
  {
   "cell_type": "code",
   "execution_count": 10,
   "metadata": {
    "collapsed": false
   },
   "outputs": [
    {
     "name": "stdout",
     "output_type": "stream",
     "text": [
      "1\n",
      "<type 'int'>\n"
     ]
    }
   ],
   "source": [
    "# Declaring an integer\n",
    "my_integer = 1\n",
    "print my_integer\n",
    "print type (my_integer)"
   ]
  },
  {
   "cell_type": "code",
   "execution_count": 11,
   "metadata": {
    "collapsed": false
   },
   "outputs": [
    {
     "name": "stdout",
     "output_type": "stream",
     "text": [
      "1.1\n",
      "<type 'float'>\n"
     ]
    }
   ],
   "source": [
    "# Declaring an float\n",
    "my_float = 1.1\n",
    "print my_float\n",
    "print type (my_float)"
   ]
  },
  {
   "cell_type": "code",
   "execution_count": 12,
   "metadata": {
    "collapsed": false
   },
   "outputs": [
    {
     "name": "stdout",
     "output_type": "stream",
     "text": [
      "False\n",
      "<type 'bool'>\n"
     ]
    }
   ],
   "source": [
    "# Declaring an boolean\n",
    "my_float = False\n",
    "print my_float\n",
    "print type (my_float)"
   ]
  },
  {
   "cell_type": "markdown",
   "metadata": {},
   "source": [
    "<H1> Complex Numbers </H1>"
   ]
  },
  {
   "cell_type": "code",
   "execution_count": 13,
   "metadata": {
    "collapsed": false
   },
   "outputs": [
    {
     "name": "stdout",
     "output_type": "stream",
     "text": [
      "<type 'complex'>\n",
      "10.0\n",
      "20.0\n"
     ]
    }
   ],
   "source": [
    "# Declaring a Complex Type\n",
    "x = 10 + 20j\n",
    "print type(x)\n",
    "print x.real\n",
    "print x.imag\n"
   ]
  },
  {
   "cell_type": "code",
   "execution_count": 14,
   "metadata": {
    "collapsed": false
   },
   "outputs": [
    {
     "data": {
      "text/plain": [
       "False"
      ]
     },
     "execution_count": 14,
     "metadata": {},
     "output_type": "execute_result"
    }
   ],
   "source": [
    "type(x) is int"
   ]
  },
  {
   "cell_type": "code",
   "execution_count": 15,
   "metadata": {
    "collapsed": false
   },
   "outputs": [
    {
     "data": {
      "text/plain": [
       "True"
      ]
     },
     "execution_count": 15,
     "metadata": {},
     "output_type": "execute_result"
    }
   ],
   "source": [
    "# We can also use the isinstance method for testing types of variables:\n",
    "isinstance (x, complex)"
   ]
  },
  {
   "cell_type": "markdown",
   "metadata": {},
   "source": [
    "<H1> Strings </H1>\n",
    "Strings are the variable type that is used for storing text messages."
   ]
  },
  {
   "cell_type": "code",
   "execution_count": 16,
   "metadata": {
    "collapsed": false
   },
   "outputs": [],
   "source": [
    "my_string = \"Somnath Banerjee's seminar\""
   ]
  },
  {
   "cell_type": "code",
   "execution_count": 17,
   "metadata": {
    "collapsed": false
   },
   "outputs": [
    {
     "name": "stdout",
     "output_type": "stream",
     "text": [
      "Somnath Banerjee's seminar\n",
      "<type 'str'>\n",
      "26\n",
      "Akash Banerjee's seminar\n"
     ]
    }
   ],
   "source": [
    "print my_string\n",
    "print type (my_string)\n",
    "print len(my_string)\n",
    "\n",
    "my_string =  my_string.replace(\"Somnath\",  \"Akash\")\n",
    "print my_string"
   ]
  },
  {
   "cell_type": "markdown",
   "metadata": {},
   "source": [
    "<H1>Slicing</H1>"
   ]
  },
  {
   "cell_type": "code",
   "execution_count": 18,
   "metadata": {
    "collapsed": false
   },
   "outputs": [
    {
     "name": "stdout",
     "output_type": "stream",
     "text": [
      "A\n",
      "r\n",
      "Akash\n",
      "Aah\n",
      "Akash Banerjee's seminar\n",
      "AahBnre' eia\n",
      "AsBeesen\n",
      "Ahne i\n"
     ]
    }
   ],
   "source": [
    "# First Letter\n",
    "print my_string[0]\n",
    "\n",
    "# Last Letter\n",
    "print my_string [len(my_string) - 1]\n",
    "\n",
    "#We can extract a part of a string using the syntax [start:stop], which extracts characters between\n",
    "#index start and stop:\n",
    "\n",
    "print my_string [0 : 5]\n",
    "\n",
    "#We can also define the step size using the syntax [start:end:step] (the default value for step is 1, as we\n",
    "#saw above):\n",
    "print my_string [0 : 5 : 2]\n",
    "\n",
    "#If we omit either (or both) of start or stop from [start:stop], the default is the beginning and the end\n",
    "#of the string, respectively:\n",
    "print my_string [0::1]\n",
    "print my_string [0::2]\n",
    "print my_string [0::3]\n",
    "print my_string [0::4]\n",
    "\n"
   ]
  },
  {
   "cell_type": "code",
   "execution_count": 19,
   "metadata": {
    "collapsed": false
   },
   "outputs": [],
   "source": [
    "nameWithBackSlash =  \"Somnath Banerjee\\'s class\""
   ]
  },
  {
   "cell_type": "code",
   "execution_count": 20,
   "metadata": {
    "collapsed": false
   },
   "outputs": [
    {
     "name": "stdout",
     "output_type": "stream",
     "text": [
      "Somnath Banerjee's class\n"
     ]
    }
   ],
   "source": [
    "print nameWithBackSlash"
   ]
  },
  {
   "cell_type": "code",
   "execution_count": 21,
   "metadata": {
    "collapsed": false
   },
   "outputs": [
    {
     "name": "stdout",
     "output_type": "stream",
     "text": [
      "Somnath  Banerjee\n"
     ]
    }
   ],
   "source": [
    "firstname = \"Somnath\"\n",
    "lastname = \"Banerjee\"\n",
    "\n",
    "fullname = firstname + \"  \" + lastname\n",
    "print fullname"
   ]
  },
  {
   "cell_type": "code",
   "execution_count": 22,
   "metadata": {
    "collapsed": false
   },
   "outputs": [
    {
     "name": "stdout",
     "output_type": "stream",
     "text": [
      "17\n"
     ]
    }
   ],
   "source": [
    "print len (fullname)"
   ]
  },
  {
   "cell_type": "code",
   "execution_count": 23,
   "metadata": {
    "collapsed": false
   },
   "outputs": [
    {
     "data": {
      "text/plain": [
       "'B'"
      ]
     },
     "execution_count": 23,
     "metadata": {},
     "output_type": "execute_result"
    }
   ],
   "source": [
    "fullname[9]"
   ]
  },
  {
   "cell_type": "code",
   "execution_count": 24,
   "metadata": {
    "collapsed": false
   },
   "outputs": [
    {
     "data": {
      "text/plain": [
       "'Somnath  Banerjee'"
      ]
     },
     "execution_count": 24,
     "metadata": {},
     "output_type": "execute_result"
    }
   ],
   "source": [
    "fullname[::]"
   ]
  },
  {
   "cell_type": "code",
   "execution_count": 25,
   "metadata": {
    "collapsed": false
   },
   "outputs": [
    {
     "data": {
      "text/plain": [
       "'Smah aeje'"
      ]
     },
     "execution_count": 25,
     "metadata": {},
     "output_type": "execute_result"
    }
   ],
   "source": [
    "fullname[::2]"
   ]
  },
  {
   "cell_type": "markdown",
   "metadata": {},
   "source": [
    "<H1>Lists</H1>\n",
    "Lists are very similar to strings, except that each element can be of any type.\n",
    "The syntax for creating lists in Python is [...]:"
   ]
  },
  {
   "cell_type": "code",
   "execution_count": 26,
   "metadata": {
    "collapsed": false
   },
   "outputs": [
    {
     "name": "stdout",
     "output_type": "stream",
     "text": [
      "1\n",
      "<type 'list'>\n"
     ]
    }
   ],
   "source": [
    "my_list = [1,3,7, 11, 13, 17]\n",
    "print my_list[0]\n",
    "print type(my_list)"
   ]
  },
  {
   "cell_type": "code",
   "execution_count": 27,
   "metadata": {
    "collapsed": false
   },
   "outputs": [
    {
     "name": "stdout",
     "output_type": "stream",
     "text": [
      "17\n",
      "[7, 13]\n"
     ]
    }
   ],
   "source": [
    "# To access the last elenent of the list\n",
    "#my_list[len(my_list)]\n",
    "print my_list[len(my_list) - 1]\n",
    "\n",
    "#We can use the same slicing techniques to manipulate lists as we could use on strings:\n",
    "print my_list [2:5:2]"
   ]
  },
  {
   "cell_type": "markdown",
   "metadata": {},
   "source": [
    "<H1> List Generation </H1>\n",
    "Lists are a very important  in Python, and used in loops and other flow control structures\n",
    "There are number of convenient functions for generating lists of various types, for example\n",
    "the range function:"
   ]
  },
  {
   "cell_type": "code",
   "execution_count": 28,
   "metadata": {
    "collapsed": false
   },
   "outputs": [
    {
     "name": "stdout",
     "output_type": "stream",
     "text": [
      "<type 'list'>\n",
      "[0, 2, 4, 6, 8, 10, 12, 14, 16, 18, 20, 22, 24, 26, 28, 30, 32, 34, 36, 38, 40, 42, 44, 46, 48, 50, 52, 54, 56, 58, 60, 62, 64, 66, 68, 70, 72, 74, 76, 78, 80, 82, 84, 86, 88, 90, 92, 94, 96, 98]\n",
      "[-10, -7, -4, -1, 2, 5, 8]\n",
      "['A', 'k', 'a', 's', 'h', ' ', 'B', 'a', 'n', 'e', 'r', 'j', 'e', 'e', \"'\", 's', ' ', 's', 'e', 'm', 'i', 'n', 'a', 'r']\n",
      "[' ', ' ', \"'\", 'A', 'B', 'a', 'a', 'a', 'e', 'e', 'e', 'e', 'h', 'i', 'j', 'k', 'm', 'n', 'n', 'r', 'r', 's', 's', 's']\n"
     ]
    }
   ],
   "source": [
    "start = 0\n",
    "end = 100\n",
    "step = 2\n",
    "my_range = range (start, end, step)\n",
    "print type (my_range)\n",
    "print my_range\n",
    "\n",
    "print list(range(-10, 10, 3))\n",
    "\n",
    "# convert a string to a list by type casting:\n",
    "my_list = list(my_string)\n",
    "print my_list\n",
    "\n",
    "# In-Place sorting of lists\n",
    "my_list.sort()\n",
    "print my_list"
   ]
  },
  {
   "cell_type": "code",
   "execution_count": 29,
   "metadata": {
    "collapsed": false
   },
   "outputs": [
    {
     "data": {
      "text/plain": [
       "'s'"
      ]
     },
     "execution_count": 29,
     "metadata": {},
     "output_type": "execute_result"
    }
   ],
   "source": [
    "my_list[-1]"
   ]
  },
  {
   "cell_type": "code",
   "execution_count": 30,
   "metadata": {
    "collapsed": false
   },
   "outputs": [
    {
     "data": {
      "text/plain": [
       "'s'"
      ]
     },
     "execution_count": 30,
     "metadata": {},
     "output_type": "execute_result"
    }
   ],
   "source": [
    "my_list[-2]"
   ]
  },
  {
   "cell_type": "code",
   "execution_count": 31,
   "metadata": {
    "collapsed": false
   },
   "outputs": [
    {
     "data": {
      "text/plain": [
       "' '"
      ]
     },
     "execution_count": 31,
     "metadata": {},
     "output_type": "execute_result"
    }
   ],
   "source": [
    "my_list [-len(my_list)]"
   ]
  },
  {
   "cell_type": "code",
   "execution_count": 32,
   "metadata": {
    "collapsed": false
   },
   "outputs": [],
   "source": [
    "another_list = [\"Brown\", 3.1416, 7, True]"
   ]
  },
  {
   "cell_type": "code",
   "execution_count": 33,
   "metadata": {
    "collapsed": false
   },
   "outputs": [
    {
     "name": "stdout",
     "output_type": "stream",
     "text": [
      "['Brown', 3.1416, 7, True]\n"
     ]
    }
   ],
   "source": [
    "print another_list"
   ]
  },
  {
   "cell_type": "code",
   "execution_count": 34,
   "metadata": {
    "collapsed": false
   },
   "outputs": [],
   "source": [
    "another_list.append(42)"
   ]
  },
  {
   "cell_type": "code",
   "execution_count": 35,
   "metadata": {
    "collapsed": false
   },
   "outputs": [
    {
     "name": "stdout",
     "output_type": "stream",
     "text": [
      "['Brown', 3.1416, 7, True, 42]\n"
     ]
    }
   ],
   "source": [
    "print another_list"
   ]
  },
  {
   "cell_type": "code",
   "execution_count": 36,
   "metadata": {
    "collapsed": false
   },
   "outputs": [],
   "source": [
    "del another_list[3]"
   ]
  },
  {
   "cell_type": "code",
   "execution_count": 37,
   "metadata": {
    "collapsed": false
   },
   "outputs": [
    {
     "name": "stdout",
     "output_type": "stream",
     "text": [
      "['Brown', 3.1416, 7, 42]\n"
     ]
    }
   ],
   "source": [
    "print another_list"
   ]
  },
  {
   "cell_type": "markdown",
   "metadata": {},
   "source": [
    "### Tuples are like lists, except that they are immutable"
   ]
  },
  {
   "cell_type": "code",
   "execution_count": 38,
   "metadata": {
    "collapsed": false
   },
   "outputs": [
    {
     "name": "stdout",
     "output_type": "stream",
     "text": [
      "<type 'tuple'>\n"
     ]
    }
   ],
   "source": [
    "my_tuple = (10, 20)\n",
    "print(type(my_tuple))"
   ]
  },
  {
   "cell_type": "code",
   "execution_count": 39,
   "metadata": {
    "collapsed": false
   },
   "outputs": [
    {
     "name": "stdout",
     "output_type": "stream",
     "text": [
      "('x =', 10)\n",
      "('y =', 20)\n"
     ]
    }
   ],
   "source": [
    "x, y = my_tuple\n",
    "print(\"x =\", x)\n",
    "print(\"y =\", y)"
   ]
  },
  {
   "cell_type": "markdown",
   "metadata": {},
   "source": [
    "### Dictionaries \n",
    "\n",
    "Dictionaries are also like lists, except that each element is a key-value pair. The syntax for dictionaries is  [key1 : value1, ...]"
   ]
  },
  {
   "cell_type": "code",
   "execution_count": 40,
   "metadata": {
    "collapsed": false
   },
   "outputs": [],
   "source": [
    "my_dictionary = {'day' : 'Sunday',  'month' : 'May', 'year' : 2015}"
   ]
  },
  {
   "cell_type": "code",
   "execution_count": 41,
   "metadata": {
    "collapsed": false
   },
   "outputs": [
    {
     "data": {
      "text/plain": [
       "'Sunday'"
      ]
     },
     "execution_count": 41,
     "metadata": {},
     "output_type": "execute_result"
    }
   ],
   "source": [
    "my_dictionary['day']"
   ]
  },
  {
   "cell_type": "code",
   "execution_count": 42,
   "metadata": {
    "collapsed": false
   },
   "outputs": [],
   "source": [
    "#my_dictionary['years']"
   ]
  },
  {
   "cell_type": "markdown",
   "metadata": {},
   "source": [
    "\n",
    "### Built In Functions\n"
   ]
  },
  {
   "cell_type": "code",
   "execution_count": 43,
   "metadata": {
    "collapsed": false
   },
   "outputs": [],
   "source": [
    "another_dictionary = dict(day = 'Sunday', month = 'May', year = 2015)"
   ]
  },
  {
   "cell_type": "code",
   "execution_count": 44,
   "metadata": {
    "collapsed": false
   },
   "outputs": [],
   "source": [
    "another_dictionary['time'] = '11:40am'"
   ]
  },
  {
   "cell_type": "code",
   "execution_count": 45,
   "metadata": {
    "collapsed": false
   },
   "outputs": [
    {
     "data": {
      "text/plain": [
       "<function items>"
      ]
     },
     "execution_count": 45,
     "metadata": {},
     "output_type": "execute_result"
    }
   ],
   "source": [
    "another_dictionary.items"
   ]
  },
  {
   "cell_type": "code",
   "execution_count": 46,
   "metadata": {
    "collapsed": false
   },
   "outputs": [
    {
     "data": {
      "text/plain": [
       "[('time', '11:40am'), ('year', 2015), ('day', 'Sunday'), ('month', 'May')]"
      ]
     },
     "execution_count": 46,
     "metadata": {},
     "output_type": "execute_result"
    }
   ],
   "source": [
    "another_dictionary.items()"
   ]
  },
  {
   "cell_type": "markdown",
   "metadata": {},
   "source": [
    "### Control Flow\n",
    "\n",
    "Conditional statements: if, elif, else"
   ]
  },
  {
   "cell_type": "code",
   "execution_count": 47,
   "metadata": {
    "collapsed": false
   },
   "outputs": [
    {
     "name": "stdout",
     "output_type": "stream",
     "text": [
      "statement1 and statement2 are False\n"
     ]
    }
   ],
   "source": [
    "statement1 = False\n",
    "statement2 = False\n",
    "if statement1:\n",
    "    print(\"statement1 is True\")\n",
    "elif statement2:\n",
    "    print(\"statement2 is True\")\n",
    "else:\n",
    "    print(\"statement1 and statement2 are False\")"
   ]
  },
  {
   "cell_type": "markdown",
   "metadata": {},
   "source": [
    "### Loops\n",
    "\n",
    "In Python, loops can be programmed in a number of di\u000b",
    "erent ways. The most common is the for loop,\n",
    "which is used together with iterable objects, such as lists. The basic syntax is:"
   ]
  },
  {
   "cell_type": "code",
   "execution_count": 48,
   "metadata": {
    "collapsed": false
   },
   "outputs": [
    {
     "name": "stdout",
     "output_type": "stream",
     "text": [
      "1\n",
      "2\n",
      "3\n"
     ]
    }
   ],
   "source": [
    "for x in [1,2,3]:\n",
    "    print(x)"
   ]
  },
  {
   "cell_type": "code",
   "execution_count": 49,
   "metadata": {
    "collapsed": false
   },
   "outputs": [
    {
     "name": "stdout",
     "output_type": "stream",
     "text": [
      "-3\n",
      "-2\n",
      "-1\n",
      "0\n",
      "1\n",
      "2\n"
     ]
    }
   ],
   "source": [
    "for x in range(-3,3):\n",
    "    print(x)"
   ]
  },
  {
   "cell_type": "code",
   "execution_count": 50,
   "metadata": {
    "collapsed": false
   },
   "outputs": [
    {
     "name": "stdout",
     "output_type": "stream",
     "text": [
      "scientific\n",
      "computing\n",
      "with\n",
      "python\n"
     ]
    }
   ],
   "source": [
    "for word in [\"scientific\", \"computing\", \"with\", \"python\"]:\n",
    "    print(word)"
   ]
  },
  {
   "cell_type": "code",
   "execution_count": 51,
   "metadata": {
    "collapsed": false
   },
   "outputs": [
    {
     "name": "stdout",
     "output_type": "stream",
     "text": [
      "year = 2015\n",
      "day = Sunday\n",
      "month = May\n"
     ]
    }
   ],
   "source": [
    "for key, value in my_dictionary.items():\n",
    "    print(key + \" = \" + str(value))"
   ]
  },
  {
   "cell_type": "code",
   "execution_count": 52,
   "metadata": {
    "collapsed": false
   },
   "outputs": [
    {
     "name": "stdout",
     "output_type": "stream",
     "text": [
      "(0, -3)\n",
      "(1, -2)\n",
      "(2, -1)\n",
      "(3, 0)\n",
      "(4, 1)\n",
      "(5, 2)\n"
     ]
    }
   ],
   "source": [
    "#Sometimes it is useful to have access to the indices of the values when iterating over a list. We can use the\n",
    "#enumerate function for this:\n",
    "\n",
    "for idx, x in enumerate(range(-3,3)):\n",
    "    print(idx, x)"
   ]
  },
  {
   "cell_type": "code",
   "execution_count": 53,
   "metadata": {
    "collapsed": false
   },
   "outputs": [
    {
     "name": "stdout",
     "output_type": "stream",
     "text": [
      "[0, 1, 8, 27, 64, 125, 216, 343, 512, 729, 1000, 1331, 1728, 2197, 2744, 3375, 4096, 4913, 5832, 6859, 8000, 9261, 10648, 12167, 13824]\n"
     ]
    }
   ],
   "source": [
    "# You can create lists on the fly.  Also called COMPREHENSION.\n",
    "\n",
    "my_on_the_fly_list = [x**3 for x in range(0,25)]\n",
    "print(my_on_the_fly_list)"
   ]
  },
  {
   "cell_type": "markdown",
   "metadata": {},
   "source": [
    "### While loops:"
   ]
  },
  {
   "cell_type": "code",
   "execution_count": 54,
   "metadata": {
    "collapsed": false
   },
   "outputs": [
    {
     "name": "stdout",
     "output_type": "stream",
     "text": [
      "0\n",
      "1\n",
      "2\n",
      "3\n",
      "4\n",
      "done\n"
     ]
    }
   ],
   "source": [
    "i = 0\n",
    "while i < 5:\n",
    "    print(i)\n",
    "    i = i + 1\n",
    "print(\"done\")"
   ]
  },
  {
   "cell_type": "markdown",
   "metadata": {},
   "source": [
    "### Functions\n",
    "A function in Python is defined using the keyword def, followed by a function name, a signature within\n",
    "parentheses (), and a colon :. The following code, with one additional level of indentation, is the function\n",
    "body."
   ]
  },
  {
   "cell_type": "code",
   "execution_count": 55,
   "metadata": {
    "collapsed": false
   },
   "outputs": [
    {
     "name": "stdout",
     "output_type": "stream",
     "text": [
      "test\n"
     ]
    }
   ],
   "source": [
    "def my_first_function():\n",
    "    print(\"test\")\n",
    "\n",
    "my_first_function()"
   ]
  },
  {
   "cell_type": "markdown",
   "metadata": {},
   "source": [
    "Optionally, but highly recommended, we can define a so called \\docstring\", which is a description of the functions purpose and behaivor. The docstring should follow directly after the function definition, before the code in the function body."
   ]
  },
  {
   "cell_type": "code",
   "execution_count": 56,
   "metadata": {
    "collapsed": false
   },
   "outputs": [],
   "source": [
    "def my_second_function(s):\n",
    "    \"\"\"\n",
    "    Print a string 's' and tell how many characters it has\n",
    "    \"\"\"\n",
    "    \n",
    "    print(s + \" has \" + str(len(s)) + \" characters\")"
   ]
  },
  {
   "cell_type": "code",
   "execution_count": 57,
   "metadata": {
    "collapsed": false
   },
   "outputs": [
    {
     "name": "stdout",
     "output_type": "stream",
     "text": [
      "Help on function my_second_function in module __main__:\n",
      "\n",
      "my_second_function(s)\n",
      "    Print a string 's' and tell how many characters it has\n",
      "\n"
     ]
    }
   ],
   "source": [
    "help(my_second_function)"
   ]
  },
  {
   "cell_type": "code",
   "execution_count": 58,
   "metadata": {
    "collapsed": false
   },
   "outputs": [
    {
     "name": "stdout",
     "output_type": "stream",
     "text": [
      "Nor1 Merchandizing Platform has 27 characters\n"
     ]
    }
   ],
   "source": [
    "my_second_function(\"Nor1 Merchandizing Platform\")"
   ]
  },
  {
   "cell_type": "markdown",
   "metadata": {},
   "source": [
    "### Default argument and keyword arguments\n",
    "In a de\f",
    "nition of a function, we can give default values to the arguments the function takes:"
   ]
  },
  {
   "cell_type": "code",
   "execution_count": 59,
   "metadata": {
    "collapsed": false
   },
   "outputs": [],
   "source": [
    "def my_third_function(x, p=2, debug=False):\n",
    "    if debug:\n",
    "        print(\"evaluating my_third_function for x = \" + str(x) + \" using exponent p = \" + str(p))\n",
    "    return x**p"
   ]
  },
  {
   "cell_type": "code",
   "execution_count": 60,
   "metadata": {
    "collapsed": false
   },
   "outputs": [
    {
     "data": {
      "text/plain": [
       "25"
      ]
     },
     "execution_count": 60,
     "metadata": {},
     "output_type": "execute_result"
    }
   ],
   "source": [
    "my_third_function(5)"
   ]
  },
  {
   "cell_type": "code",
   "execution_count": 61,
   "metadata": {
    "collapsed": false
   },
   "outputs": [
    {
     "data": {
      "text/plain": [
       "125"
      ]
     },
     "execution_count": 61,
     "metadata": {},
     "output_type": "execute_result"
    }
   ],
   "source": [
    "my_third_function(5,3)"
   ]
  },
  {
   "cell_type": "code",
   "execution_count": 62,
   "metadata": {
    "collapsed": false
   },
   "outputs": [
    {
     "name": "stdout",
     "output_type": "stream",
     "text": [
      "evaluating my_third_function for x = 5 using exponent p = 3\n"
     ]
    },
    {
     "data": {
      "text/plain": [
       "125"
      ]
     },
     "execution_count": 62,
     "metadata": {},
     "output_type": "execute_result"
    }
   ],
   "source": [
    "my_third_function(5,3, True)"
   ]
  },
  {
   "cell_type": "code",
   "execution_count": 63,
   "metadata": {
    "collapsed": false
   },
   "outputs": [
    {
     "name": "stdout",
     "output_type": "stream",
     "text": [
      "evaluating my_third_function for x = 5 using exponent p = 2\n"
     ]
    },
    {
     "data": {
      "text/plain": [
       "25"
      ]
     },
     "execution_count": 63,
     "metadata": {},
     "output_type": "execute_result"
    }
   ],
   "source": [
    "my_third_function(5, debug= True)"
   ]
  },
  {
   "cell_type": "code",
   "execution_count": 64,
   "metadata": {
    "collapsed": false
   },
   "outputs": [
    {
     "name": "stdout",
     "output_type": "stream",
     "text": [
      "evaluating my_third_function for x = 11 using exponent p = 3\n"
     ]
    },
    {
     "data": {
      "text/plain": [
       "1331"
      ]
     },
     "execution_count": 64,
     "metadata": {},
     "output_type": "execute_result"
    }
   ],
   "source": [
    "my_third_function(debug=True, p=3, x=11)"
   ]
  },
  {
   "cell_type": "markdown",
   "metadata": {},
   "source": [
    "### Unnamed functions (lambda function)\n",
    "In Python we can also create unnamed functions, using the lambda keyword:"
   ]
  },
  {
   "cell_type": "code",
   "execution_count": 65,
   "metadata": {
    "collapsed": false
   },
   "outputs": [],
   "source": [
    "my_unnamed_function = lambda x: x**2\n",
    "# is equivalent to\n",
    "def my_named_function(x):\n",
    "    return x**2"
   ]
  },
  {
   "cell_type": "code",
   "execution_count": 66,
   "metadata": {
    "collapsed": false
   },
   "outputs": [
    {
     "data": {
      "text/plain": [
       "9"
      ]
     },
     "execution_count": 66,
     "metadata": {},
     "output_type": "execute_result"
    }
   ],
   "source": [
    "my_unnamed_function(3)"
   ]
  },
  {
   "cell_type": "code",
   "execution_count": 67,
   "metadata": {
    "collapsed": false
   },
   "outputs": [
    {
     "data": {
      "text/plain": [
       "25"
      ]
     },
     "execution_count": 67,
     "metadata": {},
     "output_type": "execute_result"
    }
   ],
   "source": [
    "my_named_function(5)"
   ]
  },
  {
   "cell_type": "code",
   "execution_count": 68,
   "metadata": {
    "collapsed": false
   },
   "outputs": [
    {
     "data": {
      "text/plain": [
       "[9, 4, 1, 0, 1, 4, 9]"
      ]
     },
     "execution_count": 68,
     "metadata": {},
     "output_type": "execute_result"
    }
   ],
   "source": [
    "# in python 3 we can use `list(...)` to convert the iterator to an explicit list\n",
    "list(map(lambda x: x**2, range(-3,4)))"
   ]
  },
  {
   "cell_type": "markdown",
   "metadata": {},
   "source": [
    "### Classes \n",
    "Classes are the key features of object-oriented programming. A class is a structure for representing an object and the operations that can be performed on the object.\n",
    "In Python a class can contain attributes (variables) and methods (functions).\n",
    "A class is de\f",
    "ned almost like a function, but using the class keyword, and the class de\f",
    "nition usually\n",
    "contains a number of class method de\f",
    "nitions (a function in a class).\n",
    "\u000f Each class method should have an argument self as it firrst argument. This object is a self-reference.\n",
    "\u000f Some class method names have special meaning, for example:\n",
    "-  init : The name of the method that is invoked when the object is first created.\n",
    "\n",
    "- str : A method that is invoked when a simple string representation of the class is needed, as\n",
    "for example when printed.\n",
    "- There are many more, see http://docs.python.org/2/reference/datamodel.html#special-methodnames"
   ]
  },
  {
   "cell_type": "code",
   "execution_count": 69,
   "metadata": {
    "collapsed": false
   },
   "outputs": [],
   "source": [
    "class My_Class:\n",
    "    \"\"\"\n",
    "    Simple class for representing a point in a Cartesian coordinate system.\n",
    "    \"\"\"\n",
    "    def __init__(self, x, y):\n",
    "        \"\"\"\n",
    "        Create a new Point at x, y.\n",
    "        \"\"\"\n",
    "        self.x = x\n",
    "        self.y = y\n",
    "\n",
    "    def translate(self, dx, dy):\n",
    "        \"\"\"\n",
    "        Translate the point by dx and dy in the x and y direction.\n",
    "        \"\"\"\n",
    "        self.x += dx\n",
    "        self.y += dy\n",
    "        \n",
    "    def __str__(self):\n",
    "        return(\"My_Class at [%f, %f]\" % (self.x, self.y))"
   ]
  },
  {
   "cell_type": "code",
   "execution_count": 70,
   "metadata": {
    "collapsed": false
   },
   "outputs": [
    {
     "name": "stdout",
     "output_type": "stream",
     "text": [
      "My_Class at [0.000000, 0.000000]\n"
     ]
    }
   ],
   "source": [
    "p1 = My_Class(0, 0) # this will invoke the __init__ method in the Point class\n",
    "print(p1) # this will invoke the __str__ method"
   ]
  },
  {
   "cell_type": "markdown",
   "metadata": {},
   "source": [
    "### Modules\n",
    "One of the most important concepts in good programming is to reuse code and avoid repetitions.\n",
    "The idea is to write functions and classes with a well-defined purpose and scope, and reuse these instead  of repeating similar code in di\u000b",
    "erent part of a program (modular programming). The result is usually that readability and maintainability of a program is greatly improved. What this means in practice is that our programs have fewer bugs, are easier to extend and debug/troubleshoot.\n",
    "\n",
    "Python supports modular programming at different levels. Functions and classes are examples of tools for low-level modular programming. Python modules are a higher-level modular programming construct, where we can collect related variables, functions and classes in a module. A python module is defined in a python file (with file-ending .py), and it can be made accessible to other Python modules and programs using the import statement.\n",
    "\n",
    "Consider the following example: the file <b>mymodule.py</b> contains simple example implementations of a\n",
    "variable, function and a class:"
   ]
  },
  {
   "cell_type": "code",
   "execution_count": 71,
   "metadata": {
    "collapsed": false
   },
   "outputs": [
    {
     "name": "stdout",
     "output_type": "stream",
     "text": [
      "Overwriting mymodule.py\n"
     ]
    }
   ],
   "source": [
    "%%file mymodule.py\n",
    "\"\"\"\n",
    "Example of a python module. Contains a variable called my_variable,\n",
    "a function called my_function, and a class called MyClass.\n",
    "\"\"\"\n",
    "my_variable = 0\n",
    "def my_function():\n",
    "    \"\"\"\n",
    "    Example function\n",
    "    \"\"\"\n",
    "    return my_variable\n",
    "\n",
    "class My_Class:\n",
    "    \"\"\"\n",
    "    Example class.\n",
    "    \"\"\"\n",
    "    def __init__(self):\n",
    "        self.variable = my_variable\n",
    "\n",
    "    def set_variable(self, new_value):\n",
    "        \"\"\"\n",
    "        Set self.variable to a new value\n",
    "        \"\"\"\n",
    "\n",
    "        self.variable = new_value\n",
    "\n",
    "    def get_variable(self):\n",
    "        return self.variable"
   ]
  },
  {
   "cell_type": "code",
   "execution_count": 72,
   "metadata": {
    "collapsed": false
   },
   "outputs": [],
   "source": [
    "import mymodule"
   ]
  },
  {
   "cell_type": "code",
   "execution_count": 73,
   "metadata": {
    "collapsed": false
   },
   "outputs": [
    {
     "name": "stdout",
     "output_type": "stream",
     "text": [
      "Help on module mymodule:\n",
      "\n",
      "NAME\n",
      "    mymodule\n",
      "\n",
      "FILE\n",
      "    /Users/somnathbanerjee/dev/data/ds101/mymodule.py\n",
      "\n",
      "DESCRIPTION\n",
      "    Example of a python module. Contains a variable called my_variable,\n",
      "    a function called my_function, and a class called MyClass.\n",
      "\n",
      "CLASSES\n",
      "    My_Class\n",
      "    \n",
      "    class My_Class\n",
      "     |  Example class.\n",
      "     |  \n",
      "     |  Methods defined here:\n",
      "     |  \n",
      "     |  __init__(self)\n",
      "     |  \n",
      "     |  get_variable(self)\n",
      "     |  \n",
      "     |  set_variable(self, new_value)\n",
      "     |      Set self.variable to a new value\n",
      "\n",
      "FUNCTIONS\n",
      "    my_function()\n",
      "        Example function\n",
      "\n",
      "DATA\n",
      "    my_variable = 0\n",
      "\n",
      "\n"
     ]
    }
   ],
   "source": [
    "help(mymodule)"
   ]
  },
  {
   "cell_type": "code",
   "execution_count": 74,
   "metadata": {
    "collapsed": false
   },
   "outputs": [
    {
     "data": {
      "text/plain": [
       "101"
      ]
     },
     "execution_count": 74,
     "metadata": {},
     "output_type": "execute_result"
    }
   ],
   "source": [
    "my_class = mymodule.My_Class()\n",
    "my_class.set_variable(101)\n",
    "my_class.get_variable()"
   ]
  },
  {
   "cell_type": "markdown",
   "metadata": {},
   "source": []
  },
  {
   "cell_type": "markdown",
   "metadata": {},
   "source": [
    "VII. Built In Functions\n",
    "The Python interpreter has a number of functions built into it that are always available. They are listed here in alphabetical order.\n",
    "\n",
    "Built-in Functions\t\t\n",
    "abs()\tdivmod()\tinput()\topen()\tstaticmethod()\n",
    "all()\tenumerate()\tint()\tord()\tstr()\n",
    "any()\teval()\tisinstance()\tpow()\tsum()\n",
    "basestring()\texecfile()\tissubclass()\tprint()\tsuper()\n",
    "bin()\tfile()\titer()\tproperty()\ttuple()\n",
    "bool()\tfilter()\tlen()\trange()\ttype()\n",
    "bytearray()\tfloat()\tlist()\traw_input()\tunichr()\n",
    "callable()\tformat()\tlocals()\treduce()\tunicode()\n",
    "chr()\tfrozenset()\tlong()\treload()\tvars()\n",
    "classmethod()\tgetattr()\tmap()\trepr()\txrange()\n",
    "cmp()\tglobals()\tmax()\treversed()\tzip()\n",
    "compile()\thasattr()\tmemoryview()\tround()\t__import__()\n",
    "complex()\thash()\tmin()\tset()\t\n",
    "delattr()\thelp()\tnext()\tsetattr()\t\n",
    "dict()\thex()\tobject()\tslice()\t\n",
    "dir()\tid()\toct()\tsorted()\t\n",
    "\n",
    "\n",
    "Built-ins can be overrriden"
   ]
  },
  {
   "cell_type": "code",
   "execution_count": 75,
   "metadata": {
    "collapsed": false
   },
   "outputs": [
    {
     "data": {
      "text/plain": [
       "4"
      ]
     },
     "execution_count": 75,
     "metadata": {},
     "output_type": "execute_result"
    }
   ],
   "source": [
    "len(another_dictionary)"
   ]
  },
  {
   "cell_type": "code",
   "execution_count": 76,
   "metadata": {
    "collapsed": false
   },
   "outputs": [],
   "source": [
    "len = len(another_dictionary)"
   ]
  },
  {
   "cell_type": "code",
   "execution_count": 77,
   "metadata": {
    "collapsed": false
   },
   "outputs": [],
   "source": [
    "#If you do this you will get a type error \n",
    "#len(another_dictionary)"
   ]
  },
  {
   "cell_type": "code",
   "execution_count": 78,
   "metadata": {
    "collapsed": false
   },
   "outputs": [],
   "source": [
    "del len\n"
   ]
  },
  {
   "cell_type": "code",
   "execution_count": 79,
   "metadata": {
    "collapsed": false
   },
   "outputs": [
    {
     "data": {
      "text/plain": [
       "4"
      ]
     },
     "execution_count": 79,
     "metadata": {},
     "output_type": "execute_result"
    }
   ],
   "source": [
    "len (another_dictionary)"
   ]
  },
  {
   "cell_type": "code",
   "execution_count": 84,
   "metadata": {
    "collapsed": false
   },
   "outputs": [],
   "source": [
    "def fib(n):\n",
    "    if (n <= 1) :\n",
    "        return 1\n",
    "    else : \n",
    "        return fib (n - 1)  + fib (n - 2)"
   ]
  },
  {
   "cell_type": "code",
   "execution_count": 91,
   "metadata": {
    "collapsed": false
   },
   "outputs": [
    {
     "name": "stdout",
     "output_type": "stream",
     "text": [
      "CPU times: user 56.9 s, sys: 588 ms, total: 57.5 s\n",
      "Wall time: 59.2 s\n",
      "0 1\n",
      "1 1\n",
      "2 2\n",
      "3 3\n",
      "4 5\n",
      "5 8\n",
      "6 13\n",
      "7 21\n",
      "8 34\n",
      "9 55\n",
      "10 89\n",
      "11 144\n",
      "12 233\n",
      "13 377\n",
      "14 610\n",
      "15 987\n",
      "16 1597\n",
      "17 2584\n",
      "18 4181\n",
      "19 6765\n",
      "20 10946\n",
      "21 17711\n",
      "22 28657\n",
      "23 46368\n",
      "24 75025\n",
      "25 121393\n",
      "26 196418\n",
      "27 317811\n",
      "28 514229\n",
      "29 832040\n"
     ]
    }
   ],
   "source": [
    "#  fib(30) is safe to use.\n",
    "#  fib(40) will take about a minute.\n",
    "#  Take a Coffee Break if you want to do more than that :-)\n",
    "%time fib(40)\n",
    "for i in range(0, 30):\n",
    "    print i, fib (i)"
   ]
  },
  {
   "cell_type": "markdown",
   "metadata": {},
   "source": [
    "<h1>Memoization</h1>\n",
    "![Fibonacci]( https://upload.wikimedia.org/wikipedia/commons/thumb/b/bf/PascalTriangleFibanacci.svg/720px-PascalTriangleFibanacci.svg.png)\n",
    "\n",
    "\n",
    "Note: The term comes from <b>\"memo\"</b>: \"A short note written as a reminder.\" \n",
    "\n",
    "A naive program to compute Fibonacci numbers is\n",
    "\n",
    "```python\n",
    "fib(n) {\n",
    "    if n is 1 or 2, return 1;\n",
    "        return fib(n-1) + fib(n-2);\n",
    "} \n",
    "\n",
    "```\n",
    "Because fib() is recomputed <b>over and over</b> for the same argument, run time for the above is  \n",
    "> $$Ω(1.6^n)$$. \n",
    "<br>\n",
    "If instead we <b>memoize (save)</b> the value of fib(n) the first time we compute it, the run time is \n",
    "<br>\n",
    "> Θ(n).\n",
    "\n",
    " allocate array for memo;\n",
    " set all elements of memo to zero;\n",
    "\n",
    "```python\n",
    "fib(n) {\n",
    "    if n is 1 or 2, return 1;\n",
    "    if memo[n] is not zero, return memo[n];\n",
    "        memo[n] = fib(n-1) + fib(n-2);\n",
    "    return memo[n];\n",
    "} \n",
    "```\n",
    "Here is a very nice tutorial on recursion and memoization - http://rayhightower.com/blog/2014/04/12/recursion-and-memoization/"
   ]
  },
  {
   "cell_type": "code",
   "execution_count": 86,
   "metadata": {
    "collapsed": false
   },
   "outputs": [],
   "source": [
    "\n",
    "def fibonacci(sequence_length):\n",
    "    \"Return the Fibonacci sequence of length *sequence_length*\"\n",
    "    sequence = [0,1]\n",
    "    if sequence_length < 1:\n",
    "        print \"Fibonacci sequence only defined for length 1 or greater\"\n",
    "        return\n",
    "    if 0 < sequence_length < 3:\n",
    "        return sequence[:sequence_length]\n",
    "    for i in range(2,sequence_length): \n",
    "        sequence.append(sequence[i-1]+sequence[i-2])\n",
    "    return sequence"
   ]
  },
  {
   "cell_type": "code",
   "execution_count": 88,
   "metadata": {
    "collapsed": false
   },
   "outputs": [
    {
     "name": "stdout",
     "output_type": "stream",
     "text": [
      "CPU times: user 59 µs, sys: 12 µs, total: 71 µs\n",
      "Wall time: 78 µs\n"
     ]
    },
    {
     "data": {
      "text/plain": [
       "[0,\n",
       " 1,\n",
       " 1,\n",
       " 2,\n",
       " 3,\n",
       " 5,\n",
       " 8,\n",
       " 13,\n",
       " 21,\n",
       " 34,\n",
       " 55,\n",
       " 89,\n",
       " 144,\n",
       " 233,\n",
       " 377,\n",
       " 610,\n",
       " 987,\n",
       " 1597,\n",
       " 2584,\n",
       " 4181,\n",
       " 6765,\n",
       " 10946,\n",
       " 17711,\n",
       " 28657,\n",
       " 46368,\n",
       " 75025,\n",
       " 121393,\n",
       " 196418,\n",
       " 317811,\n",
       " 514229,\n",
       " 832040,\n",
       " 1346269,\n",
       " 2178309,\n",
       " 3524578,\n",
       " 5702887,\n",
       " 9227465,\n",
       " 14930352,\n",
       " 24157817,\n",
       " 39088169,\n",
       " 63245986,\n",
       " 102334155,\n",
       " 165580141,\n",
       " 267914296,\n",
       " 433494437,\n",
       " 701408733,\n",
       " 1134903170,\n",
       " 1836311903,\n",
       " 2971215073,\n",
       " 4807526976,\n",
       " 7778742049,\n",
       " 12586269025,\n",
       " 20365011074,\n",
       " 32951280099,\n",
       " 53316291173,\n",
       " 86267571272,\n",
       " 139583862445,\n",
       " 225851433717,\n",
       " 365435296162,\n",
       " 591286729879,\n",
       " 956722026041,\n",
       " 1548008755920,\n",
       " 2504730781961,\n",
       " 4052739537881,\n",
       " 6557470319842,\n",
       " 10610209857723,\n",
       " 17167680177565,\n",
       " 27777890035288,\n",
       " 44945570212853,\n",
       " 72723460248141,\n",
       " 117669030460994,\n",
       " 190392490709135,\n",
       " 308061521170129,\n",
       " 498454011879264,\n",
       " 806515533049393,\n",
       " 1304969544928657,\n",
       " 2111485077978050,\n",
       " 3416454622906707,\n",
       " 5527939700884757,\n",
       " 8944394323791464,\n",
       " 14472334024676221,\n",
       " 23416728348467685,\n",
       " 37889062373143906,\n",
       " 61305790721611591,\n",
       " 99194853094755497,\n",
       " 160500643816367088,\n",
       " 259695496911122585,\n",
       " 420196140727489673,\n",
       " 679891637638612258,\n",
       " 1100087778366101931,\n",
       " 1779979416004714189,\n",
       " 2880067194370816120,\n",
       " 4660046610375530309,\n",
       " 7540113804746346429,\n",
       " 12200160415121876738L,\n",
       " 19740274219868223167L,\n",
       " 31940434634990099905L,\n",
       " 51680708854858323072L,\n",
       " 83621143489848422977L,\n",
       " 135301852344706746049L,\n",
       " 218922995834555169026L]"
      ]
     },
     "execution_count": 88,
     "metadata": {},
     "output_type": "execute_result"
    }
   ],
   "source": [
    "%time fibonacci(100)"
   ]
  },
  {
   "cell_type": "code",
   "execution_count": 83,
   "metadata": {
    "collapsed": false
   },
   "outputs": [],
   "source": [
    "from math import factorial"
   ]
  },
  {
   "cell_type": "code",
   "execution_count": 128,
   "metadata": {
    "collapsed": false
   },
   "outputs": [
    {
     "name": "stdout",
     "output_type": "stream",
     "text": [
      "0 1\n",
      "1 1\n",
      "2 2\n",
      "3 6\n",
      "4 24\n",
      "5 120\n",
      "6 720\n",
      "7 5040\n",
      "8 40320\n",
      "9 362880\n",
      "10 3628800\n",
      "11 39916800\n",
      "12 479001600\n",
      "13 6227020800\n",
      "14 87178291200\n",
      "15 1307674368000\n",
      "16 20922789888000\n",
      "17 355687428096000\n",
      "18 6402373705728000\n",
      "19 121645100408832000\n",
      "20 2432902008176640000\n",
      "21 51090942171709440000\n",
      "22 1124000727777607680000\n",
      "23 25852016738884976640000\n",
      "24 620448401733239439360000\n",
      "25 15511210043330985984000000\n",
      "26 403291461126605635584000000\n",
      "27 10888869450418352160768000000\n",
      "28 304888344611713860501504000000\n",
      "29 8841761993739701954543616000000\n"
     ]
    }
   ],
   "source": [
    "for i in range(0, 30):\n",
    "    print i, factorial(i)"
   ]
  },
  {
   "cell_type": "code",
   "execution_count": 85,
   "metadata": {
    "collapsed": false
   },
   "outputs": [],
   "source": [
    "\n",
    "fibs = fibonacci(10)"
   ]
  },
  {
   "cell_type": "code",
   "execution_count": 86,
   "metadata": {
    "collapsed": false
   },
   "outputs": [],
   "source": [
    "facts = []\n",
    "for i in range(10):\n",
    "    facts.append(factorial(i))"
   ]
  },
  {
   "cell_type": "code",
   "execution_count": 130,
   "metadata": {
    "collapsed": false
   },
   "outputs": [
    {
     "data": {
      "image/png": "[encoded data removed]",
      "text/plain": [
       "<matplotlib.figure.Figure at 0x10744fdd0>"
      ]
     },
     "metadata": {},
     "output_type": "display_data"
    }
   ],
   "source": [
    "import matplotlib.pyplot as plt\n",
    "%matplotlib inline \n",
    "plt.plot([1,2,3,4])\n",
    "plt.ylabel('some numbers')\n",
    "plt.show()"
   ]
  },
  {
   "cell_type": "code",
   "execution_count": 142,
   "metadata": {
    "collapsed": false
   },
   "outputs": [
    {
     "data": {
      "image/png": "[encoded data removed]",
      "text/plain": [
       "<matplotlib.figure.Figure at 0x1082f8dd0>"
      ]
     },
     "metadata": {},
     "output_type": "display_data"
    }
   ],
   "source": [
    "linear = []\n",
    "squared = []\n",
    "cubed = []\n",
    "n_logn = [0,]\n",
    "\n",
    "for n in range (0, 1000):\n",
    "    linear.append (n*100)\n",
    "   \n",
    "for n in range (0, 1000):\n",
    "    squared.append (n**2)\n",
    "\n",
    "for n in range (0, 1000):\n",
    "    cubed.append (n**3)\n",
    "\n",
    "for n in range (1, 1000):\n",
    "    n_logn.append (n*math.log(n))\n",
    "    \n",
    "plt.plot(linear,label=\"Linear (N*100)\")\n",
    "plt.plot(squared,label=\"Squared (N**2)\")\n",
    "plt.plot(cubed,label=\"Cubed (N**3)\")\n",
    "plt.plot(n_logn,label=\"NLogN (N*LogN)\")\n",
    "plt.xlabel(\"n\")\n",
    "plt.show()"
   ]
  },
  {
   "cell_type": "code",
   "execution_count": 143,
   "metadata": {
    "collapsed": false
   },
   "outputs": [
    {
     "data": {
      "text/plain": [
       "<matplotlib.legend.Legend at 0x1077e1790>"
      ]
     },
     "execution_count": 143,
     "metadata": {},
     "output_type": "execute_result"
    },
    {
     "data": {
      "image/png": "[encoded data removed]",
      "text/plain": [
       "<matplotlib.figure.Figure at 0x1082f8fd0>"
      ]
     },
     "metadata": {},
     "output_type": "display_data"
    }
   ],
   "source": [
    "plt.semilogy(linear,label=\"Linear (N*100)\")\n",
    "plt.semilogy(squared,label=\"Squared (N**2)\")\n",
    "plt.semilogy(cubed,label=\"Cubed (N**3)\")\n",
    "plt.plot(n_logn,label=\"NLogN (N*LogN)\")\n",
    "plt.xlabel(\"n\")\n",
    "plt.legend()"
   ]
  },
  {
   "cell_type": "code",
   "execution_count": 131,
   "metadata": {
    "collapsed": false
   },
   "outputs": [
    {
     "data": {
      "image/png": "[encoded data removed]",
      "text/plain": [
       "<matplotlib.figure.Figure at 0x107ced6d0>"
      ]
     },
     "metadata": {},
     "output_type": "display_data"
    }
   ],
   "source": [
    "\n",
    "plt.plot(facts,label=\"Factorial\")\n",
    "plt.plot(fibs,label=\"Fibonacci\")\n",
    "plt.xlabel(\"n\")\n",
    "plt.show()"
   ]
  },
  {
   "cell_type": "code",
   "execution_count": 89,
   "metadata": {
    "collapsed": false
   },
   "outputs": [
    {
     "data": {
      "text/plain": [
       "<matplotlib.legend.Legend at 0x107434ad0>"
      ]
     },
     "execution_count": 89,
     "metadata": {},
     "output_type": "execute_result"
    },
    {
     "data": {
      "image/png": "[encoded data removed]",
      "text/plain": [
       "<matplotlib.figure.Figure at 0x104912a90>"
      ]
     },
     "metadata": {},
     "output_type": "display_data"
    }
   ],
   "source": [
    "plt.semilogy(facts,label=\"Factorial\")\n",
    "plt.semilogy(fibs,label=\"Fibonacci\")\n",
    "plt.xlabel(\"n\")\n",
    "plt.legend()"
   ]
  },
  {
   "cell_type": "code",
   "execution_count": 90,
   "metadata": {
    "collapsed": false
   },
   "outputs": [
    {
     "data": {
      "text/plain": [
       "[1, 1, 2, 6, 24, 120, 720, 5040, 40320, 362880]"
      ]
     },
     "execution_count": 90,
     "metadata": {},
     "output_type": "execute_result"
    }
   ],
   "source": [
    "fibs\n",
    "facts"
   ]
  },
  {
   "cell_type": "code",
   "execution_count": 91,
   "metadata": {
    "collapsed": false
   },
   "outputs": [
    {
     "name": "stdout",
     "output_type": "stream",
     "text": [
      "[0, 1, 1, 2, 3, 5, 8, 13, 21, 34]\n"
     ]
    }
   ],
   "source": [
    "print fibs "
   ]
  },
  {
   "cell_type": "code",
   "execution_count": 92,
   "metadata": {
    "collapsed": false
   },
   "outputs": [
    {
     "name": "stdout",
     "output_type": "stream",
     "text": [
      "[1, 1, 2, 6, 24, 120, 720, 5040, 40320, 362880]\n"
     ]
    }
   ],
   "source": [
    "print facts"
   ]
  },
  {
   "cell_type": "markdown",
   "metadata": {},
   "source": [
    "<h1>NumPy</H1>\n",
    "<br>\n",
    "The numpy package (module) is used in almost all numerical computation using Python. It is a package that provide high-performance vector, matrix and higher-dimensional data structures for Python. It is implemented in C and Fortran so when calculations are vectorized (formulated with vectors and matrices), performance is very good."
   ]
  },
  {
   "cell_type": "code",
   "execution_count": 93,
   "metadata": {
    "collapsed": false
   },
   "outputs": [],
   "source": [
    "import numpy as np"
   ]
  },
  {
   "cell_type": "code",
   "execution_count": 94,
   "metadata": {
    "collapsed": false
   },
   "outputs": [],
   "source": [
    "x = np.linspace(0, 5, 10)\n",
    "y = x ** 2"
   ]
  },
  {
   "cell_type": "code",
   "execution_count": 95,
   "metadata": {
    "collapsed": false
   },
   "outputs": [
    {
     "name": "stdout",
     "output_type": "stream",
     "text": [
      "[  0.           0.30864198   1.2345679    2.77777778   4.9382716\n",
      "   7.71604938  11.11111111  15.12345679  19.75308642  25.        ]\n"
     ]
    }
   ],
   "source": [
    "print y\n"
   ]
  },
  {
   "cell_type": "code",
   "execution_count": 96,
   "metadata": {
    "collapsed": false
   },
   "outputs": [
    {
     "data": {
      "image/png": "[encoded data removed]",
      "text/plain": [
       "<matplotlib.figure.Figure at 0x107738350>"
      ]
     },
     "metadata": {},
     "output_type": "display_data"
    }
   ],
   "source": [
    "import numpy as np\n",
    "import matplotlib.pyplot as plt\n",
    "\n",
    "def f(t):\n",
    "    return np.exp(-t) * np.cos(2*np.pi*t)\n",
    "\n",
    "t1 = np.arange(0.0, 5.0, 0.1)\n",
    "t2 = np.arange(0.0, 5.0, 0.02)\n",
    "\n",
    "plt.figure(1)\n",
    "plt.subplot(211)\n",
    "plt.plot(t1, f(t1), 'bo', t2, f(t2), 'k')\n",
    "\n",
    "plt.subplot(212)\n",
    "plt.plot(t2, np.cos(2*np.pi*t2), 'r--')\n",
    "plt.show()"
   ]
  },
  {
   "cell_type": "code",
   "execution_count": 97,
   "metadata": {
    "collapsed": false
   },
   "outputs": [
    {
     "data": {
      "image/png": "[encoded data removed]",
      "text/plain": [
       "<matplotlib.figure.Figure at 0x1075a6ad0>"
      ]
     },
     "metadata": {},
     "output_type": "display_data"
    }
   ],
   "source": [
    "x = np.linspace(0, 3*np.pi, 500)\n",
    "plt.plot(x, np.sin(x**2))\n",
    "plt.title('A simple chirp')\n",
    "plt.show()"
   ]
  },
  {
   "cell_type": "code",
   "execution_count": null,
   "metadata": {
    "collapsed": true
   },
   "outputs": [],
   "source": []
  }
 ],
 "metadata": {
  "kernelspec": {
   "display_name": "Python 2",
   "language": "python",
   "name": "python2"
  },
  "language_info": {
   "codemirror_mode": {
    "name": "ipython",
    "version": 2
   },
   "file_extension": ".py",
   "mimetype": "text/x-python",
   "name": "python",
   "nbconvert_exporter": "python",
   "pygments_lexer": "ipython2",
   "version": "2.7.10"
  }
 },
 "nbformat": 4,
 "nbformat_minor": 0
}
